{
 "cells": [
  {
   "cell_type": "code",
   "execution_count": 12,
   "metadata": {},
   "outputs": [
    {
     "name": "stdout",
     "output_type": "stream",
     "text": [
      "PLease enter first name : sri\n",
      "Please enter last name : vatsa\n"
     ]
    },
    {
     "data": {
      "text/plain": [
       "'irs astav'"
      ]
     },
     "execution_count": 12,
     "metadata": {},
     "output_type": "execute_result"
    }
   ],
   "source": [
    "'''Write a Python program to accept the user's first and last name and then getting them printed in\n",
    "the the reverse order with a space between first name and last name.'''\n",
    "\n",
    "firstname = input(\"PLease enter first name : \")\n",
    "lastname = input(\"Please enter last name : \")\n",
    "firstname[::-1] +' '+lastname[::-1]"
   ]
  },
  {
   "cell_type": "code",
   "execution_count": null,
   "metadata": {},
   "outputs": [],
   "source": []
  }
 ],
 "metadata": {
  "kernelspec": {
   "display_name": "Python 3",
   "language": "python",
   "name": "python3"
  },
  "language_info": {
   "codemirror_mode": {
    "name": "ipython",
    "version": 3
   },
   "file_extension": ".py",
   "mimetype": "text/x-python",
   "name": "python",
   "nbconvert_exporter": "python",
   "pygments_lexer": "ipython3",
   "version": "3.7.6"
  }
 },
 "nbformat": 4,
 "nbformat_minor": 4
}
